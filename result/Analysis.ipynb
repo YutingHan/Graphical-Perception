{
 "cells": [
  {
   "cell_type": "code",
   "execution_count": 476,
   "metadata": {},
   "outputs": [],
   "source": [
    "import pandas as pd\n",
    "import numpy as np\n",
    "import math\n",
    "import seaborn as sns"
   ]
  },
  {
   "cell_type": "markdown",
   "metadata": {},
   "source": [
    "# Import data"
   ]
  },
  {
   "cell_type": "code",
   "execution_count": 444,
   "metadata": {},
   "outputs": [
    {
     "data": {
      "text/html": [
       "<div>\n",
       "<style scoped>\n",
       "    .dataframe tbody tr th:only-of-type {\n",
       "        vertical-align: middle;\n",
       "    }\n",
       "\n",
       "    .dataframe tbody tr th {\n",
       "        vertical-align: top;\n",
       "    }\n",
       "\n",
       "    .dataframe thead th {\n",
       "        text-align: right;\n",
       "    }\n",
       "</style>\n",
       "<table border=\"1\" class=\"dataframe\">\n",
       "  <thead>\n",
       "    <tr style=\"text-align: right;\">\n",
       "      <th></th>\n",
       "      <th>Trial</th>\n",
       "      <th>ChartType</th>\n",
       "      <th>RealRatio</th>\n",
       "      <th>InputRatio</th>\n",
       "      <th>indexDif</th>\n",
       "      <th>Name</th>\n",
       "    </tr>\n",
       "  </thead>\n",
       "  <tbody>\n",
       "    <tr>\n",
       "      <th>0</th>\n",
       "      <td>1</td>\n",
       "      <td>Bubble</td>\n",
       "      <td>0.608244</td>\n",
       "      <td>0.9</td>\n",
       "      <td>0</td>\n",
       "      <td>MeijieWang</td>\n",
       "    </tr>\n",
       "    <tr>\n",
       "      <th>1</th>\n",
       "      <td>2</td>\n",
       "      <td>Bubble</td>\n",
       "      <td>0.548130</td>\n",
       "      <td>0.7</td>\n",
       "      <td>0</td>\n",
       "      <td>MeijieWang</td>\n",
       "    </tr>\n",
       "    <tr>\n",
       "      <th>2</th>\n",
       "      <td>3</td>\n",
       "      <td>Pie</td>\n",
       "      <td>0.600000</td>\n",
       "      <td>0.7</td>\n",
       "      <td>8</td>\n",
       "      <td>MeijieWang</td>\n",
       "    </tr>\n",
       "  </tbody>\n",
       "</table>\n",
       "</div>"
      ],
      "text/plain": [
       "   Trial ChartType  RealRatio  InputRatio  indexDif        Name\n",
       "0      1    Bubble   0.608244         0.9         0  MeijieWang\n",
       "1      2    Bubble   0.548130         0.7         0  MeijieWang\n",
       "2      3       Pie   0.600000         0.7         8  MeijieWang"
      ]
     },
     "execution_count": 444,
     "metadata": {},
     "output_type": "execute_result"
    }
   ],
   "source": [
    "import os\n",
    "import glob\n",
    "\n",
    "df=pd.DataFrame()\n",
    "for filepath in glob.glob(os.path.join('raw_data', '*.txt')):\n",
    "    tmp=pd.read_csv(filepath,header=None)\n",
    "    tmp.columns=['Trial','ChartType','RealRatio','InputRatio','indexDif']\n",
    "    #tmp= tmp.insert(loc=1, column='ID', value=filepath[9:][:-4])\n",
    "    tmp['Name']=filepath[9:][:-4]\n",
    "    if len(df)==0:\n",
    "        df=tmp\n",
    "    else:\n",
    "        df=df.append(tmp).reset_index(drop=True)\n",
    "df.head(3)"
   ]
  },
  {
   "cell_type": "markdown",
   "metadata": {},
   "source": [
    "# Compute error"
   ]
  },
  {
   "cell_type": "code",
   "execution_count": 445,
   "metadata": {},
   "outputs": [
    {
     "data": {
      "text/html": [
       "<div>\n",
       "<style scoped>\n",
       "    .dataframe tbody tr th:only-of-type {\n",
       "        vertical-align: middle;\n",
       "    }\n",
       "\n",
       "    .dataframe tbody tr th {\n",
       "        vertical-align: top;\n",
       "    }\n",
       "\n",
       "    .dataframe thead th {\n",
       "        text-align: right;\n",
       "    }\n",
       "</style>\n",
       "<table border=\"1\" class=\"dataframe\">\n",
       "  <thead>\n",
       "    <tr style=\"text-align: right;\">\n",
       "      <th></th>\n",
       "      <th>Trial</th>\n",
       "      <th>ChartType</th>\n",
       "      <th>RealRatio</th>\n",
       "      <th>InputRatio</th>\n",
       "      <th>indexDif</th>\n",
       "      <th>Name</th>\n",
       "      <th>log</th>\n",
       "    </tr>\n",
       "  </thead>\n",
       "  <tbody>\n",
       "    <tr>\n",
       "      <th>0</th>\n",
       "      <td>1</td>\n",
       "      <td>Bubble</td>\n",
       "      <td>0.608244</td>\n",
       "      <td>0.9</td>\n",
       "      <td>0</td>\n",
       "      <td>MeijieWang</td>\n",
       "      <td>4.872858</td>\n",
       "    </tr>\n",
       "    <tr>\n",
       "      <th>1</th>\n",
       "      <td>2</td>\n",
       "      <td>Bubble</td>\n",
       "      <td>0.548130</td>\n",
       "      <td>0.7</td>\n",
       "      <td>0</td>\n",
       "      <td>MeijieWang</td>\n",
       "      <td>3.936590</td>\n",
       "    </tr>\n",
       "    <tr>\n",
       "      <th>2</th>\n",
       "      <td>3</td>\n",
       "      <td>Pie</td>\n",
       "      <td>0.600000</td>\n",
       "      <td>0.7</td>\n",
       "      <td>8</td>\n",
       "      <td>MeijieWang</td>\n",
       "      <td>3.339850</td>\n",
       "    </tr>\n",
       "    <tr>\n",
       "      <th>3</th>\n",
       "      <td>4</td>\n",
       "      <td>Bubble</td>\n",
       "      <td>0.594684</td>\n",
       "      <td>0.6</td>\n",
       "      <td>0</td>\n",
       "      <td>MeijieWang</td>\n",
       "      <td>0.000000</td>\n",
       "    </tr>\n",
       "    <tr>\n",
       "      <th>4</th>\n",
       "      <td>5</td>\n",
       "      <td>Line</td>\n",
       "      <td>0.567568</td>\n",
       "      <td>0.5</td>\n",
       "      <td>2</td>\n",
       "      <td>MeijieWang</td>\n",
       "      <td>2.782777</td>\n",
       "    </tr>\n",
       "  </tbody>\n",
       "</table>\n",
       "</div>"
      ],
      "text/plain": [
       "   Trial ChartType  RealRatio  InputRatio  indexDif        Name       log\n",
       "0      1    Bubble   0.608244         0.9         0  MeijieWang  4.872858\n",
       "1      2    Bubble   0.548130         0.7         0  MeijieWang  3.936590\n",
       "2      3       Pie   0.600000         0.7         8  MeijieWang  3.339850\n",
       "3      4    Bubble   0.594684         0.6         0  MeijieWang  0.000000\n",
       "4      5      Line   0.567568         0.5         2  MeijieWang  2.782777"
      ]
     },
     "execution_count": 445,
     "metadata": {},
     "output_type": "execute_result"
    }
   ],
   "source": [
    "#compute error\n",
    "error=abs(df.RealRatio-df.InputRatio)*100+(1/8)\n",
    "error[error<1]=1\n",
    "df['log']=pd.DataFrame(np.log2(error))\n",
    "df.head(5)"
   ]
  },
  {
   "cell_type": "markdown",
   "metadata": {},
   "source": [
    "# Divide data by chartType"
   ]
  },
  {
   "cell_type": "code",
   "execution_count": 446,
   "metadata": {},
   "outputs": [],
   "source": [
    "#Divide data by chartType\n",
    "Piedf=df[df.ChartType==\"Pie\"].reset_index(drop=True)\n",
    "Bubbledf=df[df.ChartType==\"Bubble\"].reset_index(drop=True)\n",
    "Linedf=df[df.ChartType==\"Line\"].reset_index(drop=True)"
   ]
  },
  {
   "cell_type": "markdown",
   "metadata": {},
   "source": [
    "# Average error"
   ]
  },
  {
   "cell_type": "code",
   "execution_count": 475,
   "metadata": {},
   "outputs": [
    {
     "data": {
      "text/html": [
       "<div>\n",
       "<style scoped>\n",
       "    .dataframe tbody tr th:only-of-type {\n",
       "        vertical-align: middle;\n",
       "    }\n",
       "\n",
       "    .dataframe tbody tr th {\n",
       "        vertical-align: top;\n",
       "    }\n",
       "\n",
       "    .dataframe thead th {\n",
       "        text-align: right;\n",
       "    }\n",
       "</style>\n",
       "<table border=\"1\" class=\"dataframe\">\n",
       "  <thead>\n",
       "    <tr style=\"text-align: right;\">\n",
       "      <th></th>\n",
       "      <th>Type</th>\n",
       "      <th>mean</th>\n",
       "    </tr>\n",
       "  </thead>\n",
       "  <tbody>\n",
       "    <tr>\n",
       "      <th>0</th>\n",
       "      <td>Pie</td>\n",
       "      <td>2.610264</td>\n",
       "    </tr>\n",
       "    <tr>\n",
       "      <th>1</th>\n",
       "      <td>Bubble</td>\n",
       "      <td>3.127869</td>\n",
       "    </tr>\n",
       "    <tr>\n",
       "      <th>2</th>\n",
       "      <td>Line</td>\n",
       "      <td>3.592643</td>\n",
       "    </tr>\n",
       "  </tbody>\n",
       "</table>\n",
       "</div>"
      ],
      "text/plain": [
       "     Type      mean\n",
       "0     Pie  2.610264\n",
       "1  Bubble  3.127869\n",
       "2    Line  3.592643"
      ]
     },
     "execution_count": 475,
     "metadata": {},
     "output_type": "execute_result"
    }
   ],
   "source": [
    "summary=pd.DataFrame()\n",
    "summary['Type']=[\"Pie\",\"Bubble\",\"Line\"]\n",
    "summary['mean']=[Piedf.log.mean(),Bubbledf.log.mean(),Linedf.log.mean()]\n",
    "summary"
   ]
  },
  {
   "cell_type": "code",
   "execution_count": 483,
   "metadata": {
    "scrolled": true
   },
   "outputs": [
    {
     "data": {
      "image/png": "[encoded data removed]",
      "text/plain": [
       "<Figure size 432x288 with 1 Axes>"
      ]
     },
     "metadata": {},
     "output_type": "display_data"
    }
   ],
   "source": [
    "sns.set(style=\"whitegrid\")\n",
    "x = sns.barplot(x=\"Type\", y=\"mean\", data=summary)"
   ]
  },
  {
   "cell_type": "markdown",
   "metadata": {},
   "source": [
    "# Bootstrapped  CI"
   ]
  },
  {
   "cell_type": "code",
   "execution_count": 449,
   "metadata": {},
   "outputs": [],
   "source": [
    "def bootstrapList(df,n=None):\n",
    "    \"\"\" Bootstrap resample mean array\n",
    "    Parameters\n",
    "    ----------\n",
    "    df : a dataframe wigh \"log\" column\n",
    "    n : int, optional\n",
    "      length of resampled array, equal to len(X) if n==None\n",
    "      \n",
    "    Results\n",
    "    -------\n",
    "    returns resamples log error mean array\n",
    "    \"\"\"\n",
    "    length=len(df)\n",
    "    if n==None:\n",
    "        n=length\n",
    "    indexArray=np.random.randint(0,length,n)\n",
    "    resample=np.array(df.log)[indexArray]\n",
    "    return resample\n",
    "\n",
    "#95% CI\n",
    "def CI(Array):\n",
    "    n=len(Array)\n",
    "    mean=Array.mean()\n",
    "    std=Array.std()\n",
    "    cih=mean + 1.96*std/math.sqrt(n)\n",
    "    cil=mean - 1.96*std/math.sqrt(n)\n",
    "    return cil,cih"
   ]
  },
  {
   "cell_type": "code",
   "execution_count": 450,
   "metadata": {},
   "outputs": [
    {
     "data": {
      "text/html": [
       "<div>\n",
       "<style scoped>\n",
       "    .dataframe tbody tr th:only-of-type {\n",
       "        vertical-align: middle;\n",
       "    }\n",
       "\n",
       "    .dataframe tbody tr th {\n",
       "        vertical-align: top;\n",
       "    }\n",
       "\n",
       "    .dataframe thead th {\n",
       "        text-align: right;\n",
       "    }\n",
       "</style>\n",
       "<table border=\"1\" class=\"dataframe\">\n",
       "  <thead>\n",
       "    <tr style=\"text-align: right;\">\n",
       "      <th></th>\n",
       "      <th>Type</th>\n",
       "      <th>mean</th>\n",
       "      <th>CIL</th>\n",
       "      <th>CIH</th>\n",
       "    </tr>\n",
       "  </thead>\n",
       "  <tbody>\n",
       "    <tr>\n",
       "      <th>0</th>\n",
       "      <td>Pie</td>\n",
       "      <td>2.610264</td>\n",
       "      <td>2.557713</td>\n",
       "      <td>2.739711</td>\n",
       "    </tr>\n",
       "    <tr>\n",
       "      <th>1</th>\n",
       "      <td>Bubble</td>\n",
       "      <td>3.127869</td>\n",
       "      <td>3.051828</td>\n",
       "      <td>3.224021</td>\n",
       "    </tr>\n",
       "    <tr>\n",
       "      <th>2</th>\n",
       "      <td>Line</td>\n",
       "      <td>3.592643</td>\n",
       "      <td>3.530805</td>\n",
       "      <td>3.713665</td>\n",
       "    </tr>\n",
       "  </tbody>\n",
       "</table>\n",
       "</div>"
      ],
      "text/plain": [
       "     Type      mean       CIL       CIH\n",
       "0     Pie  2.610264  2.557713  2.739711\n",
       "1  Bubble  3.127869  3.051828  3.224021\n",
       "2    Line  3.592643  3.530805  3.713665"
      ]
     },
     "execution_count": 450,
     "metadata": {},
     "output_type": "execute_result"
    }
   ],
   "source": [
    "PieCIL,PieCIH=CI(bootstrapList(Piedf,n=1000))\n",
    "LineCIL,LineCIH=CI(bootstrapList(Linedf,n=1000))\n",
    "BubbleCIL,BubbleCIH=CI(bootstrapList(Bubbledf,n=1000))\n",
    "summary['CIL']=[PieCIL,BubbleCIL,LineCIL]\n",
    "summary['CIH']=[PieCIH,BubbleCIH,LineCIH]\n",
    "summary"
   ]
  },
  {
   "cell_type": "code",
   "execution_count": null,
   "metadata": {},
   "outputs": [],
   "source": []
  },
  {
   "cell_type": "code",
   "execution_count": null,
   "metadata": {},
   "outputs": [],
   "source": []
  }
 ],
 "metadata": {
  "kernelspec": {
   "display_name": "Python 3",
   "language": "python",
   "name": "python3"
  },
  "language_info": {
   "codemirror_mode": {
    "name": "ipython",
    "version": 3
   },
   "file_extension": ".py",
   "mimetype": "text/x-python",
   "name": "python",
   "nbconvert_exporter": "python",
   "pygments_lexer": "ipython3",
   "version": "3.6.5"
  }
 },
 "nbformat": 4,
 "nbformat_minor": 2
}
